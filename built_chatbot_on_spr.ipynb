{
 "cells": [
  {
   "cell_type": "markdown",
   "id": "7035e033",
   "metadata": {},
   "source": [
    "NeuralChat is a customizable chat framework designed to create user own chatbot within few minutes on multiple architectures. This notebook is used to demonstrate how to build a talking chatbot on 4th Generation of Intel® Xeon® Scalable Processors Sapphire Rapids.\n",
    "\n",
    "The 4th Generation of Intel® Xeon® Scalable processor provides two instruction sets viz. AMX_BF16 and AMX_INT8 which provides acceleration for bfloat16 and int8 operations respectively."
   ]
  },
  {
   "cell_type": "markdown",
   "id": "f8cb21af",
   "metadata": {},
   "source": [
    "# Prepare Environment\n",
    "Install intel extension for transformers:"
   ]
  },
  {
   "cell_type": "code",
   "execution_count": 1,
   "id": "f4d6102a",
   "metadata": {},
   "outputs": [
    {
     "name": "stdout",
     "output_type": "stream",
     "text": [
      "Defaulting to user installation because normal site-packages is not writeable\n",
      "Requirement already satisfied: intel-extension-for-transformers in ./.local/lib/python3.9/site-packages (1.4.2)\n",
      "Requirement already satisfied: neural-compressor in ./.local/lib/python3.9/site-packages (from intel-extension-for-transformers) (2.6)\n",
      "Requirement already satisfied: pyyaml in /opt/intel/oneapi/intelpython/python3.9/lib/python3.9/site-packages (from intel-extension-for-transformers) (6.0)\n",
      "Requirement already satisfied: transformers in ./.local/lib/python3.9/site-packages (from intel-extension-for-transformers) (4.42.3)\n",
      "Requirement already satisfied: numpy in ./.local/lib/python3.9/site-packages (from intel-extension-for-transformers) (1.23.5)\n",
      "Requirement already satisfied: schema in ./.local/lib/python3.9/site-packages (from intel-extension-for-transformers) (0.7.7)\n",
      "Requirement already satisfied: packaging in /opt/intel/oneapi/intelpython/python3.9/lib/python3.9/site-packages (from intel-extension-for-transformers) (21.3)\n",
      "Requirement already satisfied: deprecated>=1.2.13 in ./.local/lib/python3.9/site-packages (from neural-compressor->intel-extension-for-transformers) (1.2.14)\n",
      "Requirement already satisfied: requests in ./.local/lib/python3.9/site-packages (from neural-compressor->intel-extension-for-transformers) (2.32.3)\n",
      "Requirement already satisfied: opencv-python-headless in ./.local/lib/python3.9/site-packages (from neural-compressor->intel-extension-for-transformers) (4.10.0.84)\n",
      "Requirement already satisfied: prettytable in ./.local/lib/python3.9/site-packages (from neural-compressor->intel-extension-for-transformers) (3.10.0)\n",
      "Requirement already satisfied: scikit-learn in /opt/intel/oneapi/intelpython/python3.9/lib/python3.9/site-packages (from neural-compressor->intel-extension-for-transformers) (1.1.1)\n",
      "Requirement already satisfied: pycocotools in ./.local/lib/python3.9/site-packages (from neural-compressor->intel-extension-for-transformers) (2.0.8)\n",
      "Requirement already satisfied: py-cpuinfo in ./.local/lib/python3.9/site-packages (from neural-compressor->intel-extension-for-transformers) (9.0.0)\n",
      "Requirement already satisfied: pandas in /opt/intel/oneapi/intelpython/python3.9/lib/python3.9/site-packages (from neural-compressor->intel-extension-for-transformers) (1.5.1)\n",
      "Requirement already satisfied: Pillow in /opt/intel/oneapi/intelpython/python3.9/lib/python3.9/site-packages (from neural-compressor->intel-extension-for-transformers) (9.3.0)\n",
      "Requirement already satisfied: psutil in ./.local/lib/python3.9/site-packages (from neural-compressor->intel-extension-for-transformers) (5.9.4)\n",
      "Requirement already satisfied: pyparsing!=3.0.5,>=2.0.2 in /opt/intel/oneapi/intelpython/python3.9/lib/python3.9/site-packages (from packaging->intel-extension-for-transformers) (3.0.9)\n",
      "Requirement already satisfied: safetensors>=0.4.1 in ./.local/lib/python3.9/site-packages (from transformers->intel-extension-for-transformers) (0.4.3)\n",
      "Requirement already satisfied: tokenizers<0.20,>=0.19 in ./.local/lib/python3.9/site-packages (from transformers->intel-extension-for-transformers) (0.19.1)\n",
      "Requirement already satisfied: huggingface-hub<1.0,>=0.23.2 in ./.local/lib/python3.9/site-packages (from transformers->intel-extension-for-transformers) (0.23.4)\n",
      "Requirement already satisfied: filelock in ./.local/lib/python3.9/site-packages (from transformers->intel-extension-for-transformers) (3.15.4)\n",
      "Requirement already satisfied: tqdm>=4.27 in ./.local/lib/python3.9/site-packages (from transformers->intel-extension-for-transformers) (4.66.4)\n",
      "Requirement already satisfied: regex!=2019.12.17 in ./.local/lib/python3.9/site-packages (from transformers->intel-extension-for-transformers) (2024.5.15)\n",
      "Requirement already satisfied: wrapt<2,>=1.10 in /opt/intel/oneapi/intelpython/python3.9/lib/python3.9/site-packages (from deprecated>=1.2.13->neural-compressor->intel-extension-for-transformers) (1.13.3)\n",
      "Requirement already satisfied: fsspec>=2023.5.0 in ./.local/lib/python3.9/site-packages (from huggingface-hub<1.0,>=0.23.2->transformers->intel-extension-for-transformers) (2024.5.0)\n",
      "Requirement already satisfied: typing-extensions>=3.7.4.3 in ./.local/lib/python3.9/site-packages (from huggingface-hub<1.0,>=0.23.2->transformers->intel-extension-for-transformers) (4.12.2)\n",
      "Requirement already satisfied: python-dateutil>=2.8.1 in /opt/intel/oneapi/intelpython/python3.9/lib/python3.9/site-packages (from pandas->neural-compressor->intel-extension-for-transformers) (2.8.2)\n",
      "Requirement already satisfied: pytz>=2020.1 in /opt/intel/oneapi/intelpython/python3.9/lib/python3.9/site-packages (from pandas->neural-compressor->intel-extension-for-transformers) (2022.1)\n",
      "Requirement already satisfied: wcwidth in ./.local/lib/python3.9/site-packages (from prettytable->neural-compressor->intel-extension-for-transformers) (0.2.6)\n",
      "Requirement already satisfied: matplotlib>=2.1.0 in /opt/intel/oneapi/intelpython/python3.9/lib/python3.9/site-packages (from pycocotools->neural-compressor->intel-extension-for-transformers) (3.6.2)\n",
      "Requirement already satisfied: certifi>=2017.4.17 in /opt/intel/oneapi/intelpython/python3.9/lib/python3.9/site-packages (from requests->neural-compressor->intel-extension-for-transformers) (2022.9.24)\n",
      "Requirement already satisfied: urllib3<3,>=1.21.1 in /opt/intel/oneapi/intelpython/python3.9/lib/python3.9/site-packages (from requests->neural-compressor->intel-extension-for-transformers) (1.26.12)\n",
      "Requirement already satisfied: idna<4,>=2.5 in /opt/intel/oneapi/intelpython/python3.9/lib/python3.9/site-packages (from requests->neural-compressor->intel-extension-for-transformers) (3.4)\n",
      "Requirement already satisfied: charset-normalizer<4,>=2 in /opt/intel/oneapi/intelpython/python3.9/lib/python3.9/site-packages (from requests->neural-compressor->intel-extension-for-transformers) (2.0.4)\n",
      "Requirement already satisfied: threadpoolctl>=2.0.0 in /opt/intel/oneapi/intelpython/python3.9/lib/python3.9/site-packages (from scikit-learn->neural-compressor->intel-extension-for-transformers) (2.2.0)\n",
      "Requirement already satisfied: joblib>=1.0.0 in /opt/intel/oneapi/intelpython/python3.9/lib/python3.9/site-packages (from scikit-learn->neural-compressor->intel-extension-for-transformers) (1.0.1)\n",
      "Requirement already satisfied: scipy>=1.3.2 in ./.local/lib/python3.9/site-packages (from scikit-learn->neural-compressor->intel-extension-for-transformers) (1.13.1)\n",
      "Requirement already satisfied: contourpy>=1.0.1 in /opt/intel/oneapi/intelpython/python3.9/lib/python3.9/site-packages (from matplotlib>=2.1.0->pycocotools->neural-compressor->intel-extension-for-transformers) (1.0.5)\n",
      "Requirement already satisfied: cycler>=0.10 in /opt/intel/oneapi/intelpython/python3.9/lib/python3.9/site-packages (from matplotlib>=2.1.0->pycocotools->neural-compressor->intel-extension-for-transformers) (0.11.0)\n",
      "Requirement already satisfied: fonttools>=4.22.0 in /opt/intel/oneapi/intelpython/python3.9/lib/python3.9/site-packages (from matplotlib>=2.1.0->pycocotools->neural-compressor->intel-extension-for-transformers) (4.25.0)\n",
      "Requirement already satisfied: kiwisolver>=1.0.1 in /opt/intel/oneapi/intelpython/python3.9/lib/python3.9/site-packages (from matplotlib>=2.1.0->pycocotools->neural-compressor->intel-extension-for-transformers) (1.4.2)\n",
      "Requirement already satisfied: six>=1.5 in /opt/intel/oneapi/intelpython/python3.9/lib/python3.9/site-packages (from python-dateutil>=2.8.1->pandas->neural-compressor->intel-extension-for-transformers) (1.16.0)\n"
     ]
    }
   ],
   "source": [
    " !pip install intel-extension-for-transformers"
   ]
  },
  {
   "cell_type": "code",
   "execution_count": 2,
   "id": "4fb6da4c",
   "metadata": {},
   "outputs": [
    {
     "name": "stdout",
     "output_type": "stream",
     "text": [
      "fatal: destination path 'intel-extension-for-transformers' already exists and is not an empty directory.\r\n"
     ]
    }
   ],
   "source": [
    "!git clone https://github.com/intel/intel-extension-for-transformers.git"
   ]
  },
  {
   "cell_type": "code",
   "execution_count": 3,
   "id": "386c1f5c",
   "metadata": {},
   "outputs": [
    {
     "name": "stdout",
     "output_type": "stream",
     "text": [
      "/home/user04/intel-extension-for-transformers/intel_extension_for_transformers/neural_chat\n",
      "Defaulting to user installation because normal site-packages is not writeable\n",
      "Looking in indexes: https://pypi.org/simple, https://pytorch-extension.intel.com/release-whl/stable/cpu/us/\n",
      "Requirement already satisfied: accelerate==0.28.0 in /home/user04/.local/lib/python3.9/site-packages (from -r requirements_cpu.txt (line 2)) (0.28.0)\n",
      "Requirement already satisfied: cchardet in /home/user04/.local/lib/python3.9/site-packages (from -r requirements_cpu.txt (line 3)) (2.1.7)\n",
      "Requirement already satisfied: einops in /home/user04/.local/lib/python3.9/site-packages (from -r requirements_cpu.txt (line 4)) (0.8.0)\n",
      "Requirement already satisfied: evaluate in /home/user04/.local/lib/python3.9/site-packages (from -r requirements_cpu.txt (line 5)) (0.4.2)\n",
      "Requirement already satisfied: fastapi in /home/user04/.local/lib/python3.9/site-packages (from -r requirements_cpu.txt (line 6)) (0.111.0)\n",
      "Requirement already satisfied: fschat==0.2.32 in /home/user04/.local/lib/python3.9/site-packages (from -r requirements_cpu.txt (line 7)) (0.2.32)\n",
      "Requirement already satisfied: huggingface_hub in /home/user04/.local/lib/python3.9/site-packages (from -r requirements_cpu.txt (line 8)) (0.23.4)\n",
      "Requirement already satisfied: intel_extension_for_pytorch==2.3.0 in /home/user04/.local/lib/python3.9/site-packages (from -r requirements_cpu.txt (line 9)) (2.3.0+cpu)\n",
      "Requirement already satisfied: lm-eval==0.4.2 in /home/user04/.local/lib/python3.9/site-packages (from -r requirements_cpu.txt (line 10)) (0.4.2)\n",
      "Requirement already satisfied: neural-compressor in /home/user04/.local/lib/python3.9/site-packages (from -r requirements_cpu.txt (line 11)) (2.6)\n",
      "Requirement already satisfied: neural_speed==1.0a0 in /home/user04/.local/lib/python3.9/site-packages (from -r requirements_cpu.txt (line 12)) (1.0a0)\n",
      "Requirement already satisfied: numpy==1.23.5 in /home/user04/.local/lib/python3.9/site-packages (from -r requirements_cpu.txt (line 13)) (1.23.5)\n",
      "Requirement already satisfied: oneccl_bind_pt in /home/user04/.local/lib/python3.9/site-packages (from -r requirements_cpu.txt (line 14)) (2.3.0+cpu)\n",
      "Requirement already satisfied: optimum in /home/user04/.local/lib/python3.9/site-packages (from -r requirements_cpu.txt (line 15)) (1.21.2)\n",
      "Requirement already satisfied: optimum-intel in /home/user04/.local/lib/python3.9/site-packages (from -r requirements_cpu.txt (line 16)) (1.18.1)\n",
      "Requirement already satisfied: peft==0.6.2 in /home/user04/.local/lib/python3.9/site-packages (from -r requirements_cpu.txt (line 17)) (0.6.2)\n",
      "Requirement already satisfied: pydantic==1.10.13 in /home/user04/.local/lib/python3.9/site-packages (from -r requirements_cpu.txt (line 18)) (1.10.13)\n",
      "Requirement already satisfied: python-dotenv in /home/user04/.local/lib/python3.9/site-packages (from -r requirements_cpu.txt (line 19)) (1.0.1)\n",
      "Requirement already satisfied: python-multipart in /home/user04/.local/lib/python3.9/site-packages (from -r requirements_cpu.txt (line 20)) (0.0.9)\n",
      "Requirement already satisfied: rouge_score in /home/user04/.local/lib/python3.9/site-packages (from -r requirements_cpu.txt (line 21)) (0.1.2)\n",
      "Requirement already satisfied: sacremoses in /home/user04/.local/lib/python3.9/site-packages (from -r requirements_cpu.txt (line 22)) (0.1.1)\n",
      "Requirement already satisfied: shortuuid in /home/user04/.local/lib/python3.9/site-packages (from -r requirements_cpu.txt (line 23)) (1.0.13)\n",
      "Requirement already satisfied: starlette in /home/user04/.local/lib/python3.9/site-packages (from -r requirements_cpu.txt (line 24)) (0.37.2)\n",
      "Requirement already satisfied: tiktoken==0.4.0 in /home/user04/.local/lib/python3.9/site-packages (from -r requirements_cpu.txt (line 25)) (0.4.0)\n",
      "Requirement already satisfied: torch==2.3.0 in /home/user04/.local/lib/python3.9/site-packages (from -r requirements_cpu.txt (line 26)) (2.3.0)\n",
      "Requirement already satisfied: torchaudio==2.3.0 in /home/user04/.local/lib/python3.9/site-packages (from -r requirements_cpu.txt (line 27)) (2.3.0)\n",
      "Requirement already satisfied: transformers>=4.35.2 in /home/user04/.local/lib/python3.9/site-packages (from -r requirements_cpu.txt (line 28)) (4.42.3)\n",
      "Requirement already satisfied: transformers_stream_generator in /home/user04/.local/lib/python3.9/site-packages (from -r requirements_cpu.txt (line 29)) (0.0.5)\n",
      "Requirement already satisfied: uvicorn in /home/user04/.local/lib/python3.9/site-packages (from -r requirements_cpu.txt (line 30)) (0.30.1)\n",
      "Requirement already satisfied: yacs in /home/user04/.local/lib/python3.9/site-packages (from -r requirements_cpu.txt (line 31)) (0.1.8)\n",
      "Requirement already satisfied: pyyaml in /opt/intel/oneapi/intelpython/python3.9/lib/python3.9/site-packages (from accelerate==0.28.0->-r requirements_cpu.txt (line 2)) (6.0)\n",
      "Requirement already satisfied: packaging>=20.0 in /opt/intel/oneapi/intelpython/python3.9/lib/python3.9/site-packages (from accelerate==0.28.0->-r requirements_cpu.txt (line 2)) (21.3)\n",
      "Requirement already satisfied: safetensors>=0.3.1 in /home/user04/.local/lib/python3.9/site-packages (from accelerate==0.28.0->-r requirements_cpu.txt (line 2)) (0.4.3)\n",
      "Requirement already satisfied: psutil in /home/user04/.local/lib/python3.9/site-packages (from accelerate==0.28.0->-r requirements_cpu.txt (line 2)) (5.9.4)\n",
      "Requirement already satisfied: rich>=10.0.0 in /home/user04/.local/lib/python3.9/site-packages (from fschat==0.2.32->-r requirements_cpu.txt (line 7)) (13.7.1)\n",
      "Requirement already satisfied: aiohttp in /opt/intel/oneapi/intelpython/python3.9/lib/python3.9/site-packages (from fschat==0.2.32->-r requirements_cpu.txt (line 7)) (3.7.4.post0)\n",
      "Requirement already satisfied: markdown2[all] in /home/user04/.local/lib/python3.9/site-packages (from fschat==0.2.32->-r requirements_cpu.txt (line 7)) (2.4.13)\n",
      "Requirement already satisfied: requests in /home/user04/.local/lib/python3.9/site-packages (from fschat==0.2.32->-r requirements_cpu.txt (line 7)) (2.32.3)\n",
      "Requirement already satisfied: prompt-toolkit>=3.0.0 in /home/user04/.local/lib/python3.9/site-packages (from fschat==0.2.32->-r requirements_cpu.txt (line 7)) (3.0.36)\n",
      "Requirement already satisfied: nh3 in /home/user04/.local/lib/python3.9/site-packages (from fschat==0.2.32->-r requirements_cpu.txt (line 7)) (0.2.18)\n",
      "Requirement already satisfied: httpx in /home/user04/.local/lib/python3.9/site-packages (from fschat==0.2.32->-r requirements_cpu.txt (line 7)) (0.27.0)\n",
      "Requirement already satisfied: numexpr in /home/user04/.local/lib/python3.9/site-packages (from lm-eval==0.4.2->-r requirements_cpu.txt (line 10)) (2.10.1)\n",
      "Requirement already satisfied: scikit-learn>=0.24.1 in /opt/intel/oneapi/intelpython/python3.9/lib/python3.9/site-packages (from lm-eval==0.4.2->-r requirements_cpu.txt (line 10)) (1.1.1)\n",
      "Requirement already satisfied: pytablewriter in /home/user04/.local/lib/python3.9/site-packages (from lm-eval==0.4.2->-r requirements_cpu.txt (line 10)) (1.2.0)\n",
      "Requirement already satisfied: pybind11>=2.6.2 in /home/user04/.local/lib/python3.9/site-packages (from lm-eval==0.4.2->-r requirements_cpu.txt (line 10)) (2.13.1)\n",
      "Requirement already satisfied: sqlitedict in /home/user04/.local/lib/python3.9/site-packages (from lm-eval==0.4.2->-r requirements_cpu.txt (line 10)) (2.1.0)\n",
      "Requirement already satisfied: dill in /home/user04/.local/lib/python3.9/site-packages (from lm-eval==0.4.2->-r requirements_cpu.txt (line 10)) (0.3.8)\n",
      "Requirement already satisfied: more-itertools in /home/user04/.local/lib/python3.9/site-packages (from lm-eval==0.4.2->-r requirements_cpu.txt (line 10)) (10.3.0)\n",
      "Requirement already satisfied: sacrebleu>=1.5.0 in /home/user04/.local/lib/python3.9/site-packages (from lm-eval==0.4.2->-r requirements_cpu.txt (line 10)) (2.4.2)\n",
      "Requirement already satisfied: tqdm-multiprocess in /home/user04/.local/lib/python3.9/site-packages (from lm-eval==0.4.2->-r requirements_cpu.txt (line 10)) (0.0.11)\n",
      "Requirement already satisfied: datasets>=2.16.0 in /home/user04/.local/lib/python3.9/site-packages (from lm-eval==0.4.2->-r requirements_cpu.txt (line 10)) (2.20.0)\n",
      "Requirement already satisfied: jsonlines in /home/user04/.local/lib/python3.9/site-packages (from lm-eval==0.4.2->-r requirements_cpu.txt (line 10)) (4.0.0)\n",
      "Requirement already satisfied: word2number in /home/user04/.local/lib/python3.9/site-packages (from lm-eval==0.4.2->-r requirements_cpu.txt (line 10)) (1.1)\n",
      "Requirement already satisfied: zstandard in /home/user04/.local/lib/python3.9/site-packages (from lm-eval==0.4.2->-r requirements_cpu.txt (line 10)) (0.22.0)\n",
      "Requirement already satisfied: tqdm in /home/user04/.local/lib/python3.9/site-packages (from peft==0.6.2->-r requirements_cpu.txt (line 17)) (4.66.4)\n",
      "Requirement already satisfied: typing-extensions>=4.2.0 in /home/user04/.local/lib/python3.9/site-packages (from pydantic==1.10.13->-r requirements_cpu.txt (line 18)) (4.12.2)\n",
      "Requirement already satisfied: regex>=2022.1.18 in /home/user04/.local/lib/python3.9/site-packages (from tiktoken==0.4.0->-r requirements_cpu.txt (line 25)) (2024.5.15)\n",
      "Requirement already satisfied: nvidia-cusparse-cu12==12.1.0.106 in /home/user04/.local/lib/python3.9/site-packages (from torch==2.3.0->-r requirements_cpu.txt (line 26)) (12.1.0.106)\n",
      "Requirement already satisfied: nvidia-nvtx-cu12==12.1.105 in /home/user04/.local/lib/python3.9/site-packages (from torch==2.3.0->-r requirements_cpu.txt (line 26)) (12.1.105)\n",
      "Requirement already satisfied: filelock in /home/user04/.local/lib/python3.9/site-packages (from torch==2.3.0->-r requirements_cpu.txt (line 26)) (3.15.4)\n",
      "Requirement already satisfied: triton==2.3.0 in /home/user04/.local/lib/python3.9/site-packages (from torch==2.3.0->-r requirements_cpu.txt (line 26)) (2.3.0)\n",
      "Requirement already satisfied: networkx in /home/user04/.local/lib/python3.9/site-packages (from torch==2.3.0->-r requirements_cpu.txt (line 26)) (3.2.1)\n",
      "Requirement already satisfied: nvidia-cublas-cu12==12.1.3.1 in /home/user04/.local/lib/python3.9/site-packages (from torch==2.3.0->-r requirements_cpu.txt (line 26)) (12.1.3.1)\n",
      "Requirement already satisfied: nvidia-cuda-runtime-cu12==12.1.105 in /home/user04/.local/lib/python3.9/site-packages (from torch==2.3.0->-r requirements_cpu.txt (line 26)) (12.1.105)\n",
      "Requirement already satisfied: nvidia-cudnn-cu12==8.9.2.26 in /home/user04/.local/lib/python3.9/site-packages (from torch==2.3.0->-r requirements_cpu.txt (line 26)) (8.9.2.26)\n",
      "Requirement already satisfied: nvidia-curand-cu12==10.3.2.106 in /home/user04/.local/lib/python3.9/site-packages (from torch==2.3.0->-r requirements_cpu.txt (line 26)) (10.3.2.106)\n",
      "Requirement already satisfied: nvidia-nccl-cu12==2.20.5 in /home/user04/.local/lib/python3.9/site-packages (from torch==2.3.0->-r requirements_cpu.txt (line 26)) (2.20.5)\n",
      "Requirement already satisfied: fsspec in /home/user04/.local/lib/python3.9/site-packages (from torch==2.3.0->-r requirements_cpu.txt (line 26)) (2024.5.0)\n",
      "Requirement already satisfied: nvidia-cuda-cupti-cu12==12.1.105 in /home/user04/.local/lib/python3.9/site-packages (from torch==2.3.0->-r requirements_cpu.txt (line 26)) (12.1.105)\n",
      "Requirement already satisfied: nvidia-cufft-cu12==11.0.2.54 in /home/user04/.local/lib/python3.9/site-packages (from torch==2.3.0->-r requirements_cpu.txt (line 26)) (11.0.2.54)\n",
      "Requirement already satisfied: nvidia-cusolver-cu12==11.4.5.107 in /home/user04/.local/lib/python3.9/site-packages (from torch==2.3.0->-r requirements_cpu.txt (line 26)) (11.4.5.107)\n",
      "Requirement already satisfied: sympy in /home/user04/.local/lib/python3.9/site-packages (from torch==2.3.0->-r requirements_cpu.txt (line 26)) (1.13.0)\n",
      "Requirement already satisfied: nvidia-cuda-nvrtc-cu12==12.1.105 in /home/user04/.local/lib/python3.9/site-packages (from torch==2.3.0->-r requirements_cpu.txt (line 26)) (12.1.105)\n",
      "Requirement already satisfied: jinja2 in /home/user04/.local/lib/python3.9/site-packages (from torch==2.3.0->-r requirements_cpu.txt (line 26)) (3.1.2)\n",
      "Requirement already satisfied: nvidia-nvjitlink-cu12 in /home/user04/.local/lib/python3.9/site-packages (from nvidia-cusolver-cu12==11.4.5.107->torch==2.3.0->-r requirements_cpu.txt (line 26)) (12.5.82)\n",
      "Requirement already satisfied: pandas in /opt/intel/oneapi/intelpython/python3.9/lib/python3.9/site-packages (from evaluate->-r requirements_cpu.txt (line 5)) (1.5.1)\n",
      "Requirement already satisfied: xxhash in /home/user04/.local/lib/python3.9/site-packages (from evaluate->-r requirements_cpu.txt (line 5)) (3.4.1)\n",
      "Requirement already satisfied: multiprocess in /home/user04/.local/lib/python3.9/site-packages (from evaluate->-r requirements_cpu.txt (line 5)) (0.70.16)\n",
      "Requirement already satisfied: ujson!=4.0.2,!=4.1.0,!=4.2.0,!=4.3.0,!=5.0.0,!=5.1.0,>=4.0.1 in /home/user04/.local/lib/python3.9/site-packages (from fastapi->-r requirements_cpu.txt (line 6)) (5.10.0)\n",
      "Requirement already satisfied: fastapi-cli>=0.0.2 in /home/user04/.local/lib/python3.9/site-packages (from fastapi->-r requirements_cpu.txt (line 6)) (0.0.4)\n",
      "Requirement already satisfied: email_validator>=2.0.0 in /home/user04/.local/lib/python3.9/site-packages (from fastapi->-r requirements_cpu.txt (line 6)) (2.2.0)\n",
      "Requirement already satisfied: orjson>=3.2.1 in /home/user04/.local/lib/python3.9/site-packages (from fastapi->-r requirements_cpu.txt (line 6)) (3.10.6)\n",
      "Requirement already satisfied: prettytable in /home/user04/.local/lib/python3.9/site-packages (from neural-compressor->-r requirements_cpu.txt (line 11)) (3.10.0)\n",
      "Requirement already satisfied: pycocotools in /home/user04/.local/lib/python3.9/site-packages (from neural-compressor->-r requirements_cpu.txt (line 11)) (2.0.8)\n",
      "Requirement already satisfied: schema in /home/user04/.local/lib/python3.9/site-packages (from neural-compressor->-r requirements_cpu.txt (line 11)) (0.7.7)\n",
      "Requirement already satisfied: Pillow in /opt/intel/oneapi/intelpython/python3.9/lib/python3.9/site-packages (from neural-compressor->-r requirements_cpu.txt (line 11)) (9.3.0)\n",
      "Requirement already satisfied: deprecated>=1.2.13 in /home/user04/.local/lib/python3.9/site-packages (from neural-compressor->-r requirements_cpu.txt (line 11)) (1.2.14)\n",
      "Requirement already satisfied: opencv-python-headless in /home/user04/.local/lib/python3.9/site-packages (from neural-compressor->-r requirements_cpu.txt (line 11)) (4.10.0.84)\n",
      "Requirement already satisfied: py-cpuinfo in /home/user04/.local/lib/python3.9/site-packages (from neural-compressor->-r requirements_cpu.txt (line 11)) (9.0.0)\n",
      "Requirement already satisfied: coloredlogs in /home/user04/.local/lib/python3.9/site-packages (from optimum->-r requirements_cpu.txt (line 15)) (15.0.1)\n",
      "Requirement already satisfied: setuptools in /opt/intel/oneapi/intelpython/python3.9/lib/python3.9/site-packages (from optimum-intel->-r requirements_cpu.txt (line 16)) (63.4.1)\n",
      "Requirement already satisfied: sentencepiece in /home/user04/.local/lib/python3.9/site-packages (from optimum-intel->-r requirements_cpu.txt (line 16)) (0.2.0)\n",
      "Requirement already satisfied: onnx in /home/user04/.local/lib/python3.9/site-packages (from optimum-intel->-r requirements_cpu.txt (line 16)) (1.16.1)\n",
      "Requirement already satisfied: scipy in /home/user04/.local/lib/python3.9/site-packages (from optimum-intel->-r requirements_cpu.txt (line 16)) (1.13.1)\n",
      "Requirement already satisfied: six>=1.14.0 in /opt/intel/oneapi/intelpython/python3.9/lib/python3.9/site-packages (from rouge_score->-r requirements_cpu.txt (line 21)) (1.16.0)\n",
      "Requirement already satisfied: nltk in /home/user04/.local/lib/python3.9/site-packages (from rouge_score->-r requirements_cpu.txt (line 21)) (3.8.1)\n",
      "Requirement already satisfied: absl-py in /opt/intel/oneapi/intelpython/python3.9/lib/python3.9/site-packages (from rouge_score->-r requirements_cpu.txt (line 21)) (1.3.0)\n",
      "Requirement already satisfied: joblib in /opt/intel/oneapi/intelpython/python3.9/lib/python3.9/site-packages (from sacremoses->-r requirements_cpu.txt (line 22)) (1.0.1)\n",
      "Requirement already satisfied: click in /opt/intel/oneapi/intelpython/python3.9/lib/python3.9/site-packages (from sacremoses->-r requirements_cpu.txt (line 22)) (8.0.4)\n",
      "Requirement already satisfied: anyio<5,>=3.4.0 in /home/user04/.local/lib/python3.9/site-packages (from starlette->-r requirements_cpu.txt (line 24)) (3.6.2)\n",
      "Requirement already satisfied: tokenizers<0.20,>=0.19 in /home/user04/.local/lib/python3.9/site-packages (from transformers>=4.35.2->-r requirements_cpu.txt (line 28)) (0.19.1)\n",
      "Requirement already satisfied: h11>=0.8 in /home/user04/.local/lib/python3.9/site-packages (from uvicorn->-r requirements_cpu.txt (line 30)) (0.14.0)\n",
      "Requirement already satisfied: sniffio>=1.1 in /home/user04/.local/lib/python3.9/site-packages (from anyio<5,>=3.4.0->starlette->-r requirements_cpu.txt (line 24)) (1.3.0)\n",
      "Requirement already satisfied: idna>=2.8 in /opt/intel/oneapi/intelpython/python3.9/lib/python3.9/site-packages (from anyio<5,>=3.4.0->starlette->-r requirements_cpu.txt (line 24)) (3.4)\n",
      "Requirement already satisfied: pyarrow>=15.0.0 in /home/user04/.local/lib/python3.9/site-packages (from datasets>=2.16.0->lm-eval==0.4.2->-r requirements_cpu.txt (line 10)) (16.1.0)\n",
      "Requirement already satisfied: pyarrow-hotfix in /home/user04/.local/lib/python3.9/site-packages (from datasets>=2.16.0->lm-eval==0.4.2->-r requirements_cpu.txt (line 10)) (0.6)\n",
      "Requirement already satisfied: wrapt<2,>=1.10 in /opt/intel/oneapi/intelpython/python3.9/lib/python3.9/site-packages (from deprecated>=1.2.13->neural-compressor->-r requirements_cpu.txt (line 11)) (1.13.3)\n",
      "Requirement already satisfied: dnspython>=2.0.0 in /home/user04/.local/lib/python3.9/site-packages (from email_validator>=2.0.0->fastapi->-r requirements_cpu.txt (line 6)) (2.6.1)\n",
      "Requirement already satisfied: typer>=0.12.3 in /home/user04/.local/lib/python3.9/site-packages (from fastapi-cli>=0.0.2->fastapi->-r requirements_cpu.txt (line 6)) (0.12.3)\n",
      "Requirement already satisfied: attrs>=17.3.0 in /home/user04/.local/lib/python3.9/site-packages (from aiohttp->fschat==0.2.32->-r requirements_cpu.txt (line 7)) (22.2.0)\n",
      "Requirement already satisfied: yarl<2.0,>=1.0 in /opt/intel/oneapi/intelpython/python3.9/lib/python3.9/site-packages (from aiohttp->fschat==0.2.32->-r requirements_cpu.txt (line 7)) (1.6.3)\n",
      "Requirement already satisfied: chardet<5.0,>=2.0 in /opt/intel/oneapi/intelpython/python3.9/lib/python3.9/site-packages (from aiohttp->fschat==0.2.32->-r requirements_cpu.txt (line 7)) (4.0.0)\n",
      "Requirement already satisfied: async-timeout<4.0,>=3.0 in /opt/intel/oneapi/intelpython/python3.9/lib/python3.9/site-packages (from aiohttp->fschat==0.2.32->-r requirements_cpu.txt (line 7)) (3.0.1)\n",
      "Requirement already satisfied: multidict<7.0,>=4.5 in /opt/intel/oneapi/intelpython/python3.9/lib/python3.9/site-packages (from aiohttp->fschat==0.2.32->-r requirements_cpu.txt (line 7)) (5.1.0)\n",
      "Requirement already satisfied: certifi in /opt/intel/oneapi/intelpython/python3.9/lib/python3.9/site-packages (from httpx->fschat==0.2.32->-r requirements_cpu.txt (line 7)) (2022.9.24)\n",
      "Requirement already satisfied: httpcore==1.* in /home/user04/.local/lib/python3.9/site-packages (from httpx->fschat==0.2.32->-r requirements_cpu.txt (line 7)) (1.0.5)\n",
      "Requirement already satisfied: MarkupSafe>=2.0 in /home/user04/.local/lib/python3.9/site-packages (from jinja2->torch==2.3.0->-r requirements_cpu.txt (line 26)) (2.1.2)\n",
      "Requirement already satisfied: pyparsing!=3.0.5,>=2.0.2 in /opt/intel/oneapi/intelpython/python3.9/lib/python3.9/site-packages (from packaging>=20.0->accelerate==0.28.0->-r requirements_cpu.txt (line 2)) (3.0.9)\n",
      "Requirement already satisfied: wcwidth in /home/user04/.local/lib/python3.9/site-packages (from prompt-toolkit>=3.0.0->fschat==0.2.32->-r requirements_cpu.txt (line 7)) (0.2.6)\n",
      "Requirement already satisfied: charset-normalizer<4,>=2 in /opt/intel/oneapi/intelpython/python3.9/lib/python3.9/site-packages (from requests->fschat==0.2.32->-r requirements_cpu.txt (line 7)) (2.0.4)\n",
      "Requirement already satisfied: urllib3<3,>=1.21.1 in /opt/intel/oneapi/intelpython/python3.9/lib/python3.9/site-packages (from requests->fschat==0.2.32->-r requirements_cpu.txt (line 7)) (1.26.12)\n",
      "Requirement already satisfied: markdown-it-py>=2.2.0 in /home/user04/.local/lib/python3.9/site-packages (from rich>=10.0.0->fschat==0.2.32->-r requirements_cpu.txt (line 7)) (3.0.0)\n",
      "Requirement already satisfied: pygments<3.0.0,>=2.13.0 in /home/user04/.local/lib/python3.9/site-packages (from rich>=10.0.0->fschat==0.2.32->-r requirements_cpu.txt (line 7)) (2.14.0)\n",
      "Requirement already satisfied: tabulate>=0.8.9 in /home/user04/.local/lib/python3.9/site-packages (from sacrebleu>=1.5.0->lm-eval==0.4.2->-r requirements_cpu.txt (line 10)) (0.9.0)\n",
      "Requirement already satisfied: lxml in /home/user04/.local/lib/python3.9/site-packages (from sacrebleu>=1.5.0->lm-eval==0.4.2->-r requirements_cpu.txt (line 10)) (5.2.2)\n",
      "Requirement already satisfied: colorama in /home/user04/.local/lib/python3.9/site-packages (from sacrebleu>=1.5.0->lm-eval==0.4.2->-r requirements_cpu.txt (line 10)) (0.4.6)\n",
      "Requirement already satisfied: portalocker in /home/user04/.local/lib/python3.9/site-packages (from sacrebleu>=1.5.0->lm-eval==0.4.2->-r requirements_cpu.txt (line 10)) (2.10.0)\n",
      "Requirement already satisfied: threadpoolctl>=2.0.0 in /opt/intel/oneapi/intelpython/python3.9/lib/python3.9/site-packages (from scikit-learn>=0.24.1->lm-eval==0.4.2->-r requirements_cpu.txt (line 10)) (2.2.0)\n",
      "Requirement already satisfied: protobuf in /home/user04/.local/lib/python3.9/site-packages (from transformers>=4.35.2->-r requirements_cpu.txt (line 28)) (5.27.2)\n",
      "Requirement already satisfied: watchfiles>=0.13 in /home/user04/.local/lib/python3.9/site-packages (from uvicorn->-r requirements_cpu.txt (line 30)) (0.22.0)\n",
      "Requirement already satisfied: uvloop!=0.15.0,!=0.15.1,>=0.14.0 in /home/user04/.local/lib/python3.9/site-packages (from uvicorn->-r requirements_cpu.txt (line 30)) (0.19.0)\n",
      "Requirement already satisfied: websockets>=10.4 in /home/user04/.local/lib/python3.9/site-packages (from uvicorn->-r requirements_cpu.txt (line 30)) (12.0)\n",
      "Requirement already satisfied: httptools>=0.5.0 in /home/user04/.local/lib/python3.9/site-packages (from uvicorn->-r requirements_cpu.txt (line 30)) (0.6.1)\n",
      "Requirement already satisfied: humanfriendly>=9.1 in /home/user04/.local/lib/python3.9/site-packages (from coloredlogs->optimum->-r requirements_cpu.txt (line 15)) (10.0)\n",
      "Requirement already satisfied: wavedrom in /home/user04/.local/lib/python3.9/site-packages (from markdown2[all]->fschat==0.2.32->-r requirements_cpu.txt (line 7)) (2.0.3.post3)\n",
      "Requirement already satisfied: python-dateutil>=2.8.1 in /opt/intel/oneapi/intelpython/python3.9/lib/python3.9/site-packages (from pandas->evaluate->-r requirements_cpu.txt (line 5)) (2.8.2)\n",
      "Requirement already satisfied: pytz>=2020.1 in /opt/intel/oneapi/intelpython/python3.9/lib/python3.9/site-packages (from pandas->evaluate->-r requirements_cpu.txt (line 5)) (2022.1)\n",
      "Requirement already satisfied: matplotlib>=2.1.0 in /opt/intel/oneapi/intelpython/python3.9/lib/python3.9/site-packages (from pycocotools->neural-compressor->-r requirements_cpu.txt (line 11)) (3.6.2)\n",
      "Requirement already satisfied: pathvalidate<4,>=2.3.0 in /home/user04/.local/lib/python3.9/site-packages (from pytablewriter->lm-eval==0.4.2->-r requirements_cpu.txt (line 10)) (3.2.0)\n",
      "Requirement already satisfied: tcolorpy<1,>=0.0.5 in /home/user04/.local/lib/python3.9/site-packages (from pytablewriter->lm-eval==0.4.2->-r requirements_cpu.txt (line 10)) (0.1.6)\n",
      "Requirement already satisfied: typepy[datetime]<2,>=1.3.2 in /home/user04/.local/lib/python3.9/site-packages (from pytablewriter->lm-eval==0.4.2->-r requirements_cpu.txt (line 10)) (1.3.2)\n",
      "Requirement already satisfied: mbstrdecoder<2,>=1.0.0 in /home/user04/.local/lib/python3.9/site-packages (from pytablewriter->lm-eval==0.4.2->-r requirements_cpu.txt (line 10)) (1.1.3)\n",
      "Requirement already satisfied: DataProperty<2,>=1.0.1 in /home/user04/.local/lib/python3.9/site-packages (from pytablewriter->lm-eval==0.4.2->-r requirements_cpu.txt (line 10)) (1.0.1)\n",
      "Requirement already satisfied: tabledata<2,>=1.3.1 in /home/user04/.local/lib/python3.9/site-packages (from pytablewriter->lm-eval==0.4.2->-r requirements_cpu.txt (line 10)) (1.3.3)\n",
      "Requirement already satisfied: mpmath<1.4,>=1.1.0 in /home/user04/.local/lib/python3.9/site-packages (from sympy->torch==2.3.0->-r requirements_cpu.txt (line 26)) (1.3.0)\n",
      "Requirement already satisfied: mdurl~=0.1 in /home/user04/.local/lib/python3.9/site-packages (from markdown-it-py>=2.2.0->rich>=10.0.0->fschat==0.2.32->-r requirements_cpu.txt (line 7)) (0.1.2)\n",
      "Requirement already satisfied: kiwisolver>=1.0.1 in /opt/intel/oneapi/intelpython/python3.9/lib/python3.9/site-packages (from matplotlib>=2.1.0->pycocotools->neural-compressor->-r requirements_cpu.txt (line 11)) (1.4.2)\n",
      "Requirement already satisfied: contourpy>=1.0.1 in /opt/intel/oneapi/intelpython/python3.9/lib/python3.9/site-packages (from matplotlib>=2.1.0->pycocotools->neural-compressor->-r requirements_cpu.txt (line 11)) (1.0.5)\n",
      "Requirement already satisfied: cycler>=0.10 in /opt/intel/oneapi/intelpython/python3.9/lib/python3.9/site-packages (from matplotlib>=2.1.0->pycocotools->neural-compressor->-r requirements_cpu.txt (line 11)) (0.11.0)\n",
      "Requirement already satisfied: fonttools>=4.22.0 in /opt/intel/oneapi/intelpython/python3.9/lib/python3.9/site-packages (from matplotlib>=2.1.0->pycocotools->neural-compressor->-r requirements_cpu.txt (line 11)) (4.25.0)\n",
      "Requirement already satisfied: shellingham>=1.3.0 in /home/user04/.local/lib/python3.9/site-packages (from typer>=0.12.3->fastapi-cli>=0.0.2->fastapi->-r requirements_cpu.txt (line 6)) (1.5.4)\n",
      "Requirement already satisfied: svgwrite in /home/user04/.local/lib/python3.9/site-packages (from wavedrom->markdown2[all]->fschat==0.2.32->-r requirements_cpu.txt (line 7)) (1.4.3)\n",
      "/home/user04\n"
     ]
    }
   ],
   "source": [
    "%cd ./intel-extension-for-transformers/intel_extension_for_transformers/neural_chat/\n",
    "!pip install -r requirements_cpu.txt\n",
    "%cd ../../../"
   ]
  },
  {
   "cell_type": "markdown",
   "id": "fdf23e42",
   "metadata": {},
   "source": [
    "# Build your chatbot 💻"
   ]
  },
  {
   "cell_type": "markdown",
   "id": "20a37f5e",
   "metadata": {},
   "source": [
    "# Text Chat\n",
    "Giving NeuralChat the textual instruction, it will respond with the textual response."
   ]
  },
  {
   "cell_type": "code",
   "execution_count": 4,
   "id": "d8cc227b",
   "metadata": {},
   "outputs": [
    {
     "name": "stderr",
     "output_type": "stream",
     "text": [
      "Intel(R) Extension for Scikit-learn* enabled (https://github.com/intel/scikit-learn-intelex)\n",
      "/home/user04/.local/lib/python3.9/site-packages/transformers/deepspeed.py:24: FutureWarning: transformers.deepspeed module is deprecated and will be removed in a future version. Please import deepspeed modules directly from transformers.integrations\n",
      "  warnings.warn(\n"
     ]
    },
    {
     "name": "stdout",
     "output_type": "stream",
     "text": [
      "Loading model Intel/neural-chat-7b-v3-1\n"
     ]
    },
    {
     "data": {
      "application/vnd.jupyter.widget-view+json": {
       "model_id": "9a4f07e1cb7645009f09d5c89730c4e2",
       "version_major": 2,
       "version_minor": 0
      },
      "text/plain": [
       "Loading checkpoint shards:   0%|          | 0/2 [00:00<?, ?it/s]"
      ]
     },
     "metadata": {},
     "output_type": "display_data"
    },
    {
     "name": "stdout",
     "output_type": "stream",
     "text": [
      "The main difference between Intel Xeon and Intel Core processors lies in their intended use cases and target markets. While both types of processors are designed for high performance computing, they cater to different needs.\n",
      "\n",
      "Intel Xeon processors are primarily aimed at servers, workstations, and high-performance computing systems. They offer advanced features like increased reliability, scalability, and security, making them suitable for mission-critical applications where downtime can have significant consequences. These processors often come with higher price tags due to their specialized capabilities.\n",
      "\n",
      "On the other hand, Intel Core processors are designed for mainstream personal computers, laptops, tablets, and mobile devices. They provide excellent performance for everyday tasks such as web browsing, multimedia consumption, gaming, and productivity applications. Intel Core processors are generally more affordable and energy-efficient compared to Xeon processors, making them ideal for general users who don't require the same level of performance or specific features found in Xeon processors.\n",
      "\n",
      "In summary, while both Intel Xeon and Intel Core processors deliver exceptional performance, their primary differences lie in their target markets, intended uses, and associated features.\n"
     ]
    }
   ],
   "source": [
    "# BF16 Optimization\n",
    "from intel_extension_for_transformers.neural_chat import build_chatbot, PipelineConfig\n",
    "from intel_extension_for_transformers.transformers import MixedPrecisionConfig\n",
    "config = PipelineConfig(optimization_config=MixedPrecisionConfig())\n",
    "chatbot = build_chatbot(config)\n",
    "response = chatbot.predict(query=\"What is the difference between Intel Xeon and Intel Core processors?\")\n",
    "print(response)"
   ]
  },
  {
   "cell_type": "code",
   "execution_count": 5,
   "id": "a077874b",
   "metadata": {},
   "outputs": [
    {
     "name": "stdout",
     "output_type": "stream",
     "text": [
      "The Intel Iris Xe Graphics is a powerful integrated graphics solution designed for laptops and desktop computers. Some of its notable key features include:\n",
      "\n",
      "1. High performance: It offers impressive visuals and smooth gaming experiences with support for DirectX 12 Ultimate, Vulkan, OpenGL, and OpenCL.\n",
      "\n",
      "2. Enhanced AI capabilities: With built-in AI acceleration, it can improve image quality and enhance video playback.\n",
      "\n",
      "3. Energy efficiency: The Intel Iris Xe Graphics is optimized for power efficiency, allowing for longer battery life on laptops.\n",
      "\n",
      "4. Integrated into the processor: This graphics card is part of the CPU, which means it shares resources and reduces system latency, leading to better overall performance.\n",
      "\n",
      "5. Support for various display technologies: It works well with different displays, including 4K UHD, HDR, and high refresh rate monitors.\n",
      "\n",
      "6. Advanced security features: Intel Iris Xe Graphics comes with hardware-based security measures like Intel Control Center and Intel Privacy ID to protect your data and privacy.\n",
      "\n",
      "7.\n"
     ]
    }
   ],
   "source": [
    "response = chatbot.predict(query=\"What are the key features of Intel Iris Xe graphics?\")\n",
    "print(response)"
   ]
  },
  {
   "cell_type": "code",
   "execution_count": 6,
   "id": "c50151b7",
   "metadata": {},
   "outputs": [
    {
     "name": "stdout",
     "output_type": "stream",
     "text": [
      "The Intel Core i7-12700K has 12 cores in total, with a combination of 4 Performance-cores (P-cores) and 8 Efficient-cores (E-cores). This allows for efficient performance across various tasks and workloads.\n"
     ]
    }
   ],
   "source": [
    "response = chatbot.predict(query=\"How many cores does the Intel Core i7-12700K have?\")\n",
    "print(response)"
   ]
  },
  {
   "cell_type": "code",
   "execution_count": 7,
   "id": "fa331c46",
   "metadata": {},
   "outputs": [
    {
     "name": "stdout",
     "output_type": "stream",
     "text": [
      "The Intel Xeon Silver 4210R is a processor designed for servers and workstations. It uses the LGA3647 socket type, which is specifically made for this series of processors from Intel. This socket ensures proper connection and communication between the CPU and other components in your system.\n"
     ]
    }
   ],
   "source": [
    "response = chatbot.predict(query=\"What socket type does the Intel Xeon Silver 4210R use?\")\n",
    "print(response)"
   ]
  },
  {
   "cell_type": "code",
   "execution_count": 8,
   "id": "838a7911",
   "metadata": {},
   "outputs": [
    {
     "name": "stdout",
     "output_type": "stream",
     "text": [
      "The Intel Xeon Scalable processors offer advanced AI capabilities, enabling them to handle complex tasks such as deep learning, machine learning, and natural language processing with ease. These processors feature high-performance computing, accelerated memory, and enhanced security features, making them ideal for various applications in industries like healthcare, finance, and automotive. Additionally, they can efficiently manage workloads across multiple cores and threads, ensuring optimal performance even when handling demanding AI tasks.\n"
     ]
    }
   ],
   "source": [
    "response = chatbot.predict(query=\"What are the AI capabilities of the Intel Xeon Scalable processors?\")\n",
    "print(response)"
   ]
  },
  {
   "cell_type": "code",
   "execution_count": 9,
   "id": "b40e4b0a",
   "metadata": {},
   "outputs": [
    {
     "name": "stdout",
     "output_type": "stream",
     "text": [
      "Intel vPro technology is a set of advanced features designed for business computers and servers. It aims to enhance security, manageability, and performance while providing a reliable platform for various applications. Some key benefits include:\n",
      "\n",
      "1. Enhanced Security: With built-in hardware-based security features like Intel Active Management Technology (AMT), Intel Standard Manageability (ISM), and Intel Boot Guard, it helps protect data and devices from potential threats.\n",
      "\n",
      "2. Remote Management: Intel vPro technology enables IT administrators to remotely manage and troubleshoot systems, reducing downtime and improving efficiency.\n",
      "\n",
      "3. Improved Performance: The technology optimizes system performance through intelligent power management, enabling longer battery life and better responsiveness.\n",
      "\n",
      "4. Better Collaboration: Intel vPro technology supports collaboration tools such as video conferencing, screen sharing, and instant messaging, making communication easier among team members.\n",
      "\n",
      "5. Flexible Deployment: It can be easily integrated into different form factors, including desktops, laptops, tablets, and even servers, catering to diverse needs in various industries.\n",
      "\n",
      "In summary, Intel vPro technology offers a comprehensive solution for businesses seeking enhanced security, remote management capabilities\n"
     ]
    }
   ],
   "source": [
    "response = chatbot.predict(query=\"What is Intel vPro technology and what are its uses?\")\n",
    "print(response)"
   ]
  },
  {
   "cell_type": "code",
   "execution_count": null,
   "id": "88da3c95",
   "metadata": {},
   "outputs": [],
   "source": []
  }
 ],
 "metadata": {
  "kernelspec": {
   "display_name": "Python 3 (ipykernel)",
   "language": "python",
   "name": "python3"
  },
  "language_info": {
   "codemirror_mode": {
    "name": "ipython",
    "version": 3
   },
   "file_extension": ".py",
   "mimetype": "text/x-python",
   "name": "python",
   "nbconvert_exporter": "python",
   "pygments_lexer": "ipython3",
   "version": "3.9.15"
  }
 },
 "nbformat": 4,
 "nbformat_minor": 5
}
